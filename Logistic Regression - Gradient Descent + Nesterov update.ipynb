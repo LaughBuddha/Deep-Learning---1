{
  "nbformat": 4,
  "nbformat_minor": 0,
  "metadata": {
    "colab": {
      "name": "ESE 546_PS2_Q3.ipynb",
      "provenance": [],
      "collapsed_sections": [],
      "include_colab_link": true
    },
    "kernelspec": {
      "name": "python3",
      "display_name": "Python 3"
    },
    "accelerator": "GPU"
  },
  "cells": [
    {
      "cell_type": "markdown",
      "metadata": {
        "id": "view-in-github",
        "colab_type": "text"
      },
      "source": [
        "<a href=\"https://colab.research.google.com/github/LaughBuddha/Deep-Learning---1/blob/master/Logistic%20Regression%20-%20Gradient%20Descent%20%2B%20Nesterov%20update.ipynb\" target=\"_parent\"><img src=\"https://colab.research.google.com/assets/colab-badge.svg\" alt=\"Open In Colab\"/></a>"
      ]
    },
    {
      "cell_type": "code",
      "metadata": {
        "id": "-w9SVYbAWuCT",
        "colab_type": "code",
        "outputId": "1ec76f3d-d38d-49af-cd4d-e4ca073d2b8f",
        "colab": {
          "base_uri": "https://localhost:8080/",
          "height": 659
        }
      },
      "source": [
        "import numpy as np\n",
        "#Download the dataset\n",
        "import torchvision as thv\n",
        "from torchvision import transforms, datasets\n",
        "train = datasets.MNIST('./', download=True, train=True, transform = transforms.Compose([transforms.ToTensor(),transforms.Normalize((0.5, 0.5, 0.5), (0.5, 0.5, 0.5))])) \n",
        "val = datasets.MNIST('./', download=True, train=False, transform = transforms.Compose([transforms.ToTensor(), transforms.Normalize((0.5, 0.5, 0.5), (0.5, 0.5, 0.5))]))\n",
        "print(train.data.shape, len(train.targets))\n",
        "print(val.data.shape, len(val.targets))"
      ],
      "execution_count": 1,
      "outputs": [
        {
          "output_type": "stream",
          "text": [
            "  0%|          | 16384/9912422 [00:00<01:06, 148999.85it/s]"
          ],
          "name": "stderr"
        },
        {
          "output_type": "stream",
          "text": [
            "Downloading http://yann.lecun.com/exdb/mnist/train-images-idx3-ubyte.gz to ./MNIST/raw/train-images-idx3-ubyte.gz\n"
          ],
          "name": "stdout"
        },
        {
          "output_type": "stream",
          "text": [
            " 99%|█████████▉| 9846784/9912422 [00:12<00:00, 630231.00it/s]"
          ],
          "name": "stderr"
        },
        {
          "output_type": "stream",
          "text": [
            "Extracting ./MNIST/raw/train-images-idx3-ubyte.gz to ./MNIST/raw\n"
          ],
          "name": "stdout"
        },
        {
          "output_type": "stream",
          "text": [
            "\n",
            "0it [00:00, ?it/s]\u001b[A\n",
            "32768it [00:00, 348554.70it/s]\u001b[A\n",
            "0it [00:00, ?it/s]\u001b[A"
          ],
          "name": "stderr"
        },
        {
          "output_type": "stream",
          "text": [
            "Downloading http://yann.lecun.com/exdb/mnist/train-labels-idx1-ubyte.gz to ./MNIST/raw/train-labels-idx1-ubyte.gz\n",
            "Extracting ./MNIST/raw/train-labels-idx1-ubyte.gz to ./MNIST/raw\n",
            "Downloading http://yann.lecun.com/exdb/mnist/t10k-images-idx3-ubyte.gz to ./MNIST/raw/t10k-images-idx3-ubyte.gz\n"
          ],
          "name": "stdout"
        },
        {
          "output_type": "stream",
          "text": [
            "\n",
            "  1%|          | 16384/1648877 [00:00<00:10, 157326.97it/s]\u001b[A\n",
            "  5%|▌         | 90112/1648877 [00:00<00:07, 202985.60it/s]\u001b[A\n",
            " 11%|█▏        | 188416/1648877 [00:00<00:05, 265546.22it/s]\u001b[A\n",
            " 19%|█▉        | 311296/1648877 [00:00<00:03, 345464.14it/s]\u001b[A\n",
            " 26%|██▋       | 434176/1648877 [00:00<00:02, 438039.11it/s]\u001b[A\n",
            " 34%|███▍      | 565248/1648877 [00:00<00:01, 543100.90it/s]\u001b[A\n",
            " 41%|████      | 671744/1648877 [00:00<00:01, 633328.34it/s]\u001b[A\n",
            " 47%|████▋     | 770048/1648877 [00:00<00:01, 679078.73it/s]\u001b[A\n",
            " 53%|█████▎    | 868352/1648877 [00:00<00:01, 699349.40it/s]\u001b[A\n",
            " 58%|█████▊    | 958464/1648877 [00:01<00:01, 689913.36it/s]\u001b[A\n",
            " 63%|██████▎   | 1040384/1648877 [00:01<00:00, 635385.52it/s]\u001b[A\n",
            " 68%|██████▊   | 1114112/1648877 [00:01<00:00, 615952.53it/s]\u001b[A\n",
            " 72%|███████▏  | 1187840/1648877 [00:01<00:00, 640468.33it/s]\u001b[A\n",
            " 77%|███████▋  | 1261568/1648877 [00:01<00:00, 658352.98it/s]\u001b[A\n",
            " 82%|████████▏ | 1359872/1648877 [00:01<00:00, 694304.59it/s]\u001b[A\n",
            " 88%|████████▊ | 1458176/1648877 [00:01<00:00, 745991.30it/s]\u001b[A\n",
            " 94%|█████████▍| 1548288/1648877 [00:01<00:00, 775315.12it/s]\u001b[A\n",
            " 99%|█████████▉| 1630208/1648877 [00:02<00:00, 741996.10it/s]\u001b[A\n",
            "1654784it [00:02, 786906.67it/s]                             \u001b[A\n",
            "0it [00:00, ?it/s]\u001b[A\n",
            "8192it [00:00, 176464.41it/s]\u001b[A"
          ],
          "name": "stderr"
        },
        {
          "output_type": "stream",
          "text": [
            "Extracting ./MNIST/raw/t10k-images-idx3-ubyte.gz to ./MNIST/raw\n",
            "Downloading http://yann.lecun.com/exdb/mnist/t10k-labels-idx1-ubyte.gz to ./MNIST/raw/t10k-labels-idx1-ubyte.gz\n",
            "Extracting ./MNIST/raw/t10k-labels-idx1-ubyte.gz to ./MNIST/raw\n",
            "Processing...\n",
            "Done!\n",
            "torch.Size([60000, 28, 28]) 60000\n",
            "torch.Size([10000, 28, 28]) 10000\n"
          ],
          "name": "stdout"
        }
      ]
    },
    {
      "cell_type": "code",
      "metadata": {
        "id": "lYpFPLe-YB-j",
        "colab_type": "code",
        "colab": {}
      },
      "source": [
        "train_0 = np.where(train.targets == 0 )\n",
        "train_0 = np.array(train_0)\n",
        "\n",
        "train_1 = np.where(train.targets == 1 )\n",
        "train_1 = np.array(train_1)\n",
        "\n",
        "test_0 = np.where(val.targets == 0 )\n",
        "test_0 = np.array(test_0)\n",
        "\n",
        "test_1 = np.where(val.targets == 1 )\n",
        "test_1 = np.array(test_1)\n",
        "\n",
        "train_idx = np.append(train_0, train_1)\n",
        "test_idx = np.append(test_0, test_1)\n",
        "\n",
        "X_train = train.data[train_idx].view(-1,784).numpy()\n",
        "y_train = train.targets[train_idx].view(12665,1).numpy()\n",
        "\n",
        "X_test = val.data[test_idx].view(-1,784).view(-1,784).numpy()\n",
        "y_test = val.targets[test_idx].view(2115,1).numpy()\n",
        "\n",
        "y_train[y_train == 0] = 1\n",
        "y_train[y_train == 1] = -1\n",
        "\n",
        "y_test[y_test == 0] = 1\n",
        "y_test[y_test == 1] = -1"
      ],
      "execution_count": 0,
      "outputs": []
    },
    {
      "cell_type": "code",
      "metadata": {
        "id": "tKRZiZnqljUc",
        "colab_type": "code",
        "colab": {}
      },
      "source": [
        "# regularization parameter - lambda\n",
        "_lambda = 0.001   \n",
        "\n",
        "#learning rate\n",
        "lr = 0.00001"
      ],
      "execution_count": 0,
      "outputs": []
    },
    {
      "cell_type": "code",
      "metadata": {
        "id": "C7gJ-NXZZLHe",
        "colab_type": "code",
        "colab": {}
      },
      "source": [
        "np.random.seed(42)\n",
        "w = np.random.randn(1, 784) * 0.01\n",
        "w0 = np.random.randn((1)) * 0.01\n",
        "\n",
        "# Save a copy of the same initial W for nesterov's update\n",
        "w_n = w.copy()\n",
        "w0_n = w0.copy()"
      ],
      "execution_count": 0,
      "outputs": []
    },
    {
      "cell_type": "code",
      "metadata": {
        "id": "oAtkHbiLJUMv",
        "colab_type": "code",
        "outputId": "f2934e99-f6c1-4cc9-b608-ad21af2f8d5d",
        "colab": {
          "base_uri": "https://localhost:8080/",
          "height": 363
        }
      },
      "source": [
        "loss = np.empty((20))\n",
        "count = np.empty((20))\n",
        "\n",
        "\n",
        "for i in range(20):\n",
        "  var1 = np.matmul(X_train, w.transpose())\n",
        "  var2 = np.add(var1, w0)\n",
        "  var3 = y_train * var2\n",
        "  var3_5 = np.exp(-var3)\n",
        "  var4 = np.log(np.add(1, var3_5))\n",
        "  var5 = var4.sum()\n",
        "\n",
        "  loss1 = var5 / X_train.shape[0]\n",
        "  loss2 = ((np.linalg.norm(w))**2 + (np.linalg.norm(w0))**2) * (_lambda / 2)\n",
        "  loss[i] = float(loss1) + float(loss2)\n",
        "  count[i] = i\n",
        "\n",
        "  print(\"update:%d Loss: %.4f\" % (i+1, loss[i]))\n",
        "  \n",
        "# Calculate derivative\n",
        "  dw_reg = _lambda * w\n",
        "  dl_var1 = var3_5 / np.add(1, var3_5)\n",
        "  dl_var2 = (dl_var1 * -y_train)/X_train.shape[0]\n",
        "  dl_var3 = dl_var2.T @ X_train   \n",
        "  dloss_dw = dl_var3.sum(axis=0) + dw_reg\n",
        "  \n",
        "  dw0_reg = _lambda * w0\n",
        "  dloss_dw0 = dl_var2.sum(axis = 0) + dw0_reg\n",
        "  \n",
        "#update Weights  \n",
        "  w -= lr*dloss_dw\n",
        "  w0 -= lr*dloss_dw0"
      ],
      "execution_count": 5,
      "outputs": [
        {
          "output_type": "stream",
          "text": [
            "update:1 Loss: 13.5126\n",
            "update:2 Loss: 7.7289\n",
            "update:3 Loss: 3.1991\n",
            "update:4 Loss: 0.9336\n",
            "update:5 Loss: 0.4764\n",
            "update:6 Loss: 0.3209\n",
            "update:7 Loss: 0.2399\n",
            "update:8 Loss: 0.1902\n",
            "update:9 Loss: 0.1568\n",
            "update:10 Loss: 0.1331\n",
            "update:11 Loss: 0.1153\n",
            "update:12 Loss: 0.1016\n",
            "update:13 Loss: 0.0907\n",
            "update:14 Loss: 0.0819\n",
            "update:15 Loss: 0.0745\n",
            "update:16 Loss: 0.0683\n",
            "update:17 Loss: 0.0630\n",
            "update:18 Loss: 0.0585\n",
            "update:19 Loss: 0.0545\n",
            "update:20 Loss: 0.0510\n"
          ],
          "name": "stdout"
        }
      ]
    },
    {
      "cell_type": "code",
      "metadata": {
        "id": "GykVX9k08cxh",
        "colab_type": "code",
        "colab": {}
      },
      "source": [
        "y_pred = (X_test @ w.T) + w0\n",
        "y_pred = np.where(y_pred == 1, y_pred, -1)\n",
        "acc = np.mean(y_pred.squeeze() == y_test)"
      ],
      "execution_count": 0,
      "outputs": []
    },
    {
      "cell_type": "code",
      "metadata": {
        "id": "j5cXGVj_9qdi",
        "colab_type": "code",
        "outputId": "bb7235ae-1ec9-42b5-cfcb-9117f8fa1740",
        "colab": {
          "base_uri": "https://localhost:8080/",
          "height": 35
        }
      },
      "source": [
        "acc"
      ],
      "execution_count": 7,
      "outputs": [
        {
          "output_type": "execute_result",
          "data": {
            "text/plain": [
              "1.0"
            ]
          },
          "metadata": {
            "tags": []
          },
          "execution_count": 7
        }
      ]
    },
    {
      "cell_type": "markdown",
      "metadata": {
        "id": "KLTbLvxcB7Qq",
        "colab_type": "text"
      },
      "source": [
        "**Nesterov's update**"
      ]
    },
    {
      "cell_type": "code",
      "metadata": {
        "id": "su_cWdRtDDju",
        "colab_type": "code",
        "colab": {}
      },
      "source": [
        "L = 1\n",
        "m = _lambda\n",
        "\n",
        "K = L/m\n",
        "sqrt_K = np.sqrt(K)\n",
        "rho = (sqrt_K - 1) / (sqrt_K + 1)"
      ],
      "execution_count": 0,
      "outputs": []
    },
    {
      "cell_type": "code",
      "metadata": {
        "id": "-ziJigChJXMl",
        "colab_type": "code",
        "colab": {}
      },
      "source": [
        "x_prev = np.zeros((1, 784))\n",
        "x0_prev = np.zeros((1))"
      ],
      "execution_count": 0,
      "outputs": []
    },
    {
      "cell_type": "code",
      "metadata": {
        "id": "IB9WVlmM5G_0",
        "colab_type": "code",
        "outputId": "32003a0f-c694-4da0-997d-76a5a1d6841a",
        "colab": {
          "base_uri": "https://localhost:8080/",
          "height": 363
        }
      },
      "source": [
        "loss_n = np.empty((20))\n",
        "count_n = np.empty((20))\n",
        "\n",
        "for j in range(20):\n",
        "  var1_n = np.matmul(X_train, w_n.transpose())\n",
        "  var2_n = np.add(var1_n, w0_n)\n",
        "  var3_n = y_train * var2_n\n",
        "  var3_5_n = np.exp(-var3_n)\n",
        "  var4_n = np.log(np.add(1, var3_5_n))\n",
        "  var5_n = var4_n.sum()\n",
        "\n",
        "  loss1_n = var5_n / X_train.shape[0]\n",
        "  loss2_n = ((np.linalg.norm(w_n))**2 + (w0_n)**2) * (_lambda / 2)\n",
        "  loss_n[j] = float(loss1_n) + float(loss2_n)\n",
        "  print(\"update:%d Loss: %.4f\" % (j+1, loss_n[j]))\n",
        "  count_n[j] = j\n",
        "  \n",
        "# Calculate derivative\n",
        "  dw_reg_n = _lambda * w_n\n",
        "  dl_var1_n = var3_5_n / np.add(1, var3_5_n)\n",
        "  dl_var2_n = (dl_var1_n * -y_train) / X_train.shape[0]\n",
        "  dl_var3_n = np.matmul(dl_var2_n.T, X_train)  \n",
        "  dloss_dw_n = (dl_var3_n.sum(axis=0)) + dw_reg_n\n",
        "  \n",
        "  dw0_reg_n = _lambda * w0_n\n",
        "  dloss_dw0_n = dl_var2_n.sum(axis = 0) + dw0_reg_n\n",
        "  \n",
        "#update Weights - Nesterov\n",
        "  x = w_n - lr*dloss_dw_n  \n",
        "  if j == 0:\n",
        "    w_n = x\n",
        "  else:\n",
        "    w_n = ((1 + rho)*x) - (rho*x_prev)\n",
        "  x_prev = x\n",
        "  \n",
        "  x0 = w0_n - lr*dloss_dw0_n\n",
        "  if j == 0:\n",
        "    w0_n = x0\n",
        "  else:\n",
        "    w0_n = (1 + rho)*x0 - rho*x0_prev\n",
        "  x0_prev = x0"
      ],
      "execution_count": 10,
      "outputs": [
        {
          "output_type": "stream",
          "text": [
            "update:1 Loss: 13.5126\n",
            "update:2 Loss: 7.7289\n",
            "update:3 Loss: 0.7123\n",
            "update:4 Loss: 0.0357\n",
            "update:5 Loss: 0.0026\n",
            "update:6 Loss: 0.0002\n",
            "update:7 Loss: 0.0000\n",
            "update:8 Loss: 0.0000\n",
            "update:9 Loss: 0.0000\n",
            "update:10 Loss: 0.0000\n",
            "update:11 Loss: 0.0000\n",
            "update:12 Loss: 0.0000\n",
            "update:13 Loss: 0.0000\n",
            "update:14 Loss: 0.0000\n",
            "update:15 Loss: 0.0000\n",
            "update:16 Loss: 0.0000\n",
            "update:17 Loss: 0.0000\n",
            "update:18 Loss: 0.0000\n",
            "update:19 Loss: 0.0000\n",
            "update:20 Loss: 0.0000\n"
          ],
          "name": "stdout"
        }
      ]
    },
    {
      "cell_type": "code",
      "metadata": {
        "id": "TdmMXWAwKozN",
        "colab_type": "code",
        "outputId": "cb28e52c-5417-4ba5-9845-d16557714697",
        "colab": {
          "base_uri": "https://localhost:8080/",
          "height": 582
        }
      },
      "source": [
        "import matplotlib.pyplot as plt\n",
        "import seaborn as sns\n",
        "\n",
        "fig, ax = plt.subplots(figsize=(12, 8), dpi=80,)\n",
        "ax.set(yscale=\"log\")\n",
        "\n",
        "plt.plot( loss, label = \"Gradient Descent\" )\n",
        "plt.plot( loss_n, label = \"Nesterov Update\")\n",
        "plt.legend()\n",
        "plt.xlabel(\"No. of weight updates\")\n",
        "plt.ylabel(\"Loss\")\n",
        "plt.title(\"Loss vs No. of weight updates\")\n"
      ],
      "execution_count": 11,
      "outputs": [
        {
          "output_type": "execute_result",
          "data": {
            "text/plain": [
              "Text(0.5, 1.0, 'Loss vs No. of weight updates')"
            ]
          },
          "metadata": {
            "tags": []
          },
          "execution_count": 11
        },
        {
          "output_type": "display_data",
          "data": {
            "image/png": "[encoded data removed]",
            "text/plain": [
              "<Figure size 960x640 with 1 Axes>"
            ]
          },
          "metadata": {
            "tags": []
          }
        }
      ]
    },
    {
      "cell_type": "code",
      "metadata": {
        "id": "f8FlMZbzLKsk",
        "colab_type": "code",
        "colab": {}
      },
      "source": [
        ""
      ],
      "execution_count": 0,
      "outputs": []
    }
  ]
}